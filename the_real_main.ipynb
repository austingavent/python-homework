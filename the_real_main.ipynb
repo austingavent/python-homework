{
 "cells": [
  {
   "cell_type": "code",
   "execution_count": 250,
   "metadata": {},
   "outputs": [],
   "source": [
    "from pathlib import Path\n",
    "import pandas as pd\n",
    "import numpy as np\n",
    "import csv"
   ]
  },
  {
   "cell_type": "code",
   "execution_count": 251,
   "metadata": {},
   "outputs": [
    {
     "name": "stdout",
     "output_type": "stream",
     "text": [
      "C:\\Users\\austi\\ucb-sfc-fin-pt-08-2020-u-c\\02-Homework\\02-Python\\Instructions\\PyBank\\Resources\n"
     ]
    }
   ],
   "source": [
    "cd C:\\Users\\austi\\ucb-sfc-fin-pt-08-2020-u-c\\02-Homework\\02-Python\\Instructions\\PyBank\\Resources\n"
   ]
  },
  {
   "cell_type": "code",
   "execution_count": 263,
   "metadata": {},
   "outputs": [],
   "source": [
    "file_path = Path(r'C:\\Users\\austi\\ucb-sfc-fin-pt-08-2020-u-c\\02-Homework\\02-Python\\Instructions\\PyBank\\Resources\\budget_data.csv')\n",
    "output_file = Path(r'C:/Users/austi/ucb-sfc-fin-pt-08-2020-u-c/python-homework/pybank/homework2.txt')"
   ]
  },
  {
   "cell_type": "code",
   "execution_count": 261,
   "metadata": {},
   "outputs": [],
   "source": [
    "df = pd.read_csv(r'C:\\Users\\austi\\ucb-sfc-fin-pt-08-2020-u-c\\02-Homework\\02-Python\\Instructions\\PyBank\\Resources\\budget_data.csv')\n",
    "df.groupby('Profit/Losses')\n",
    "column3=df.sort_values('Profit/Losses', ascending=False, ignore_index=True) \n"
   ]
  },
  {
   "cell_type": "code",
   "execution_count": 307,
   "metadata": {},
   "outputs": [],
   "source": [
    "net_total=()\n",
    "average_change=()\n",
    "best_month=()\n",
    "worse_month=()\n",
    "total_months = 0\n",
    "total_profits = 0\n",
    "average_change = 0\n",
    "maxincrease = [0,0]\n",
    "maxdecrease = [0,0]\n",
    "net_change = []\n",
    "chnglist = []\n",
    "best_increase=[0,0]\n",
    "worse_decrease=[0,0]"
   ]
  },
  {
   "cell_type": "code",
   "execution_count": 308,
   "metadata": {},
   "outputs": [],
   "source": [
    "best_month= column3.iloc[0].to_string(index=False)\n",
    "worse_month=column3.iloc[-1].to_string(index=False)\n",
    "total_mnths=(len(df.Date))\n",
    "net_total=(df['Profit/Losses'].sum())"
   ]
  },
  {
   "cell_type": "code",
   "execution_count": 311,
   "metadata": {},
   "outputs": [
    {
     "name": "stdout",
     "output_type": "stream",
     "text": [
      "<class '_csv.reader'>\n"
     ]
    }
   ],
   "source": [
    "with open(file_path) as data: \n",
    "    reader= csv.reader(data)\n",
    "    print(type(reader))\n",
    "    header= next(reader)\n",
    "    first_row = next(reader)\n",
    "    \n",
    "    total_months=total_months+1\n",
    "    total_profits=total_profits + int(first_row[1])\n",
    "    prev_net = int(first_row[1])\n",
    " \n",
    "    for value in reader:\n",
    "        total_months=total_months+1\n",
    "        total_profits=total_profits + int(value[1])\n",
    "        net_change = int(value[1]) - prev_net\n",
    "        prev_net = int(value[1])\n",
    "        chnglist = chnglist + [net_change]\n",
    "        \n",
    "        if net_change < worse_decrease[1]:\n",
    "            maxdecrease[0] = value[0]\n",
    "            maxdecrease[1] = net_change\n",
    "            \n",
    "        if net_change > best_increase[1]:\n",
    "            maxincrease[0] = value[0]\n",
    "            maxincrease[1] = net_change\n",
    "            \n",
    "        \n",
    "        average_change= sum(net_change_list) / len(net_change_list)\n",
    "        average_change= round(average_change, 2)"
   ]
  },
  {
   "cell_type": "code",
   "execution_count": 312,
   "metadata": {},
   "outputs": [
    {
     "name": "stdout",
     "output_type": "stream",
     "text": [
      "The net total of Profit/Losses: 38382578\n",
      "The total months: 86\n",
      "The best month:\n",
      "  Feb-2012\n",
      "  1170593\n",
      "The worse month:\n",
      "  Sep-2013\n",
      " -1196225\n",
      "The average change: -2315.12\n",
      "The maximum increase: ['Feb-2017', 532869]\n",
      "The maximum decrease: ['Dec-2016', -734926]\n"
     ]
    }
   ],
   "source": [
    "print(f\"The net total of Profit/Losses: {net_total}\")\n",
    "print(f\"The total months: {total_mnths}\")\n",
    "print(f\"The best month:\\n {best_month}\")\n",
    "print(f\"The worse month:\\n {worse_month}\")\n",
    "print(f\"The average change: {average_change}\")\n",
    "print(f'The maximum increase: {maxincrease}')\n",
    "print(f'The maximum decrease: {maxdecrease}')"
   ]
  },
  {
   "cell_type": "code",
   "execution_count": null,
   "metadata": {},
   "outputs": [],
   "source": []
  }
 ],
 "metadata": {
  "kernelspec": {
   "display_name": "Python 3",
   "language": "python",
   "name": "python3"
  },
  "language_info": {
   "codemirror_mode": {
    "name": "ipython",
    "version": 3
   },
   "file_extension": ".py",
   "mimetype": "text/x-python",
   "name": "python",
   "nbconvert_exporter": "python",
   "pygments_lexer": "ipython3",
   "version": "3.8.3"
  }
 },
 "nbformat": 4,
 "nbformat_minor": 4
}
